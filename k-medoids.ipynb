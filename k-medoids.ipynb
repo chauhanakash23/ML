{
 "cells": [
  {
   "cell_type": "code",
   "execution_count": 3,
   "metadata": {},
   "outputs": [],
   "source": [
    "import numpy as np\n",
    "import random"
   ]
  },
  {
   "cell_type": "code",
   "execution_count": 4,
   "metadata": {},
   "outputs": [],
   "source": [
    "def kMedoids(D, k, tmax=100):\n",
    "    m, n = D.shape\n",
    "\n",
    "    if k > n:\n",
    "        raise Exception('too many medoids')\n",
    "\n",
    "    valid_medoid_inds = set(range(n))\n",
    "    invalid_medoid_inds = set([])\n",
    "    rs,cs = np.where(D==0)\n",
    "\n",
    "    index_shuf = list(range(len(rs)))\n",
    "    np.random.shuffle(index_shuf)\n",
    "    rs = rs[index_shuf]\n",
    "    cs = cs[index_shuf]\n",
    "    for r,c in zip(rs,cs):\n",
    "\n",
    "        if r < c and r not in invalid_medoid_inds:\n",
    "            invalid_medoid_inds.add(c)\n",
    "    valid_medoid_inds = list(valid_medoid_inds - invalid_medoid_inds)\n",
    "\n",
    "    if k > len(valid_medoid_inds):\n",
    "        raise Exception('too many medoids (after removing {} duplicate points)'.format(\n",
    "            len(invalid_medoid_inds)))\n",
    "\n",
    "    M = np.array(valid_medoid_inds)\n",
    "    np.random.shuffle(M)\n",
    "    M = np.sort(M[:k])\n",
    "\n",
    "    Mnew = np.copy(M)\n",
    "\n",
    "    C = {}\n",
    "    for t in range(tmax):\n",
    "\n",
    "        J = np.argmin(D[:,M], axis=1)\n",
    "        for kp in range(k):\n",
    "            C[kp] = np.where(J==kp)[0]\n",
    "\n",
    "        for kp in range(k):\n",
    "            J = np.mean(D[np.ix_(C[kp],C[kp])],axis=1)\n",
    "            j = np.argmin(J)\n",
    "            Mnew[kp] = C[kp][j]\n",
    "        np.sort(Mnew)\n",
    "\n",
    "        if np.array_equal(M, Mnew):\n",
    "            break\n",
    "        M = np.copy(Mnew)\n",
    "    else:\n",
    "\n",
    "        J = np.argmin(D[:,M], axis=1)\n",
    "        for kp in range(k):\n",
    "            C[kp] = np.where(J==kp)[0]\n",
    "\n",
    "    return M, C"
   ]
  },
  {
   "cell_type": "code",
   "execution_count": 5,
   "metadata": {},
   "outputs": [
    {
     "name": "stdout",
     "output_type": "stream",
     "text": [
      "[[ 0.          1.41421356 12.72792206]\n",
      " [ 1.41421356  0.         11.3137085 ]\n",
      " [12.72792206 11.3137085   0.        ]]\n",
      "medoids:\n",
      "[1 1]\n",
      "[2 2]\n",
      "\n",
      "clustering result:\n",
      "label 0:　[1 1]\n",
      "label 1:　[2 2]\n",
      "label 1:　[10 10]\n"
     ]
    }
   ],
   "source": [
    "data = np.array([[1,1], \n",
    "                [2,2], \n",
    "                [10,10]])\n",
    "from sklearn.metrics.pairwise import pairwise_distances\n",
    "\n",
    "D = pairwise_distances(data, metric='euclidean')\n",
    "print(D)\n",
    "\n",
    "M, C = kMedoids(D, 2)\n",
    "\n",
    "print('medoids:')\n",
    "for point_idx in M:\n",
    "    print( data[point_idx] )\n",
    "\n",
    "print('')\n",
    "print('clustering result:')\n",
    "for label in C:\n",
    "    for point_idx in C[label]:\n",
    "        print('label {0}:　{1}'.format(label, data[point_idx]))\n",
    "\n"
   ]
  },
  {
   "cell_type": "code",
   "execution_count": null,
   "metadata": {},
   "outputs": [],
   "source": []
  }
 ],
 "metadata": {
  "kernelspec": {
   "display_name": "Python 3",
   "language": "python",
   "name": "python3"
  },
  "language_info": {
   "codemirror_mode": {
    "name": "ipython",
    "version": 3
   },
   "file_extension": ".py",
   "mimetype": "text/x-python",
   "name": "python",
   "nbconvert_exporter": "python",
   "pygments_lexer": "ipython3",
   "version": "3.6.5"
  }
 },
 "nbformat": 4,
 "nbformat_minor": 2
}
