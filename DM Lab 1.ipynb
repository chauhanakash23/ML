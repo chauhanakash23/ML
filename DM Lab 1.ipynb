{
 "cells": [
  {
   "cell_type": "markdown",
   "metadata": {},
   "source": [
    "# LAB 1(02/08/2018): Split the dataset into train and test."
   ]
  },
  {
   "cell_type": "code",
   "execution_count": 7,
   "metadata": {},
   "outputs": [],
   "source": [
    "import numpy as np"
   ]
  },
  {
   "cell_type": "code",
   "execution_count": 8,
   "metadata": {},
   "outputs": [],
   "source": [
    "train = []\n",
    "#test1=[]\n",
    "a=[]"
   ]
  },
  {
   "cell_type": "code",
   "execution_count": 9,
   "metadata": {},
   "outputs": [],
   "source": [
    "data = np.random.randint(low=1,high=100,size=(100,5))\n",
    "#print(data)\n",
    "\n",
    "ind=np.random.randint(low=0,high=99,size=100)\n",
    "#print(ind)"
   ]
  },
  {
   "cell_type": "code",
   "execution_count": 10,
   "metadata": {},
   "outputs": [],
   "source": [
    "for i in range(70):\n",
    "    rain.append(data[i])\n",
    "    #train.append(data[ind[i]])\n",
    "    a.append(i)"
   ]
  },
  {
   "cell_type": "code",
   "execution_count": 13,
   "metadata": {},
   "outputs": [
    {
     "name": "stdout",
     "output_type": "stream",
     "text": [
      "<class 'numpy.ndarray'>\n",
      "<class 'numpy.ndarray'>\n",
      "Train set: size= 70\n",
      "[[71 25 48 23 98]\n",
      " [83 45 59 71 60]\n",
      " [96 96 31 46 11]\n",
      " [49 48 97 78 70]\n",
      " [68 49 75 50 30]\n",
      " [ 1 30 42  8 19]\n",
      " [51 66 63 64 38]\n",
      " [47 77 66 23 42]\n",
      " [ 4 13 89 50  5]\n",
      " [47 25 93 50 69]\n",
      " [14 42 22 62  4]\n",
      " [55 34 45 67 73]\n",
      " [95 23 64 68 22]\n",
      " [ 4 92 83 25 63]\n",
      " [35 74 60 47 85]\n",
      " [76 22 30 51 79]\n",
      " [45 95 76 44 84]\n",
      " [81 27 58 76 50]\n",
      " [76 27 74 97 77]\n",
      " [40 52 21 92 41]\n",
      " [82 54 88 48 77]\n",
      " [92 33 76 51 63]\n",
      " [13 28 94 96 65]\n",
      " [24 39 32 22 86]\n",
      " [43 31 98 48 60]\n",
      " [18  2 91 44 24]\n",
      " [56 66 25 34 83]\n",
      " [ 5  8 71 92 34]\n",
      " [92 87 61 88 45]\n",
      " [77  1 97 31 71]\n",
      " [80 12 77 53 81]\n",
      " [18 73 12 51 35]\n",
      " [87 78 68 27 58]\n",
      " [87 93 83 13 15]\n",
      " [32 57 23 97 71]\n",
      " [31 66 55 60 84]\n",
      " [49 25 13 78 70]\n",
      " [34  8 32 47 68]\n",
      " [56 67 98 61 13]\n",
      " [16 29 56 53 28]\n",
      " [54 72 12 38 58]\n",
      " [95 75 41 76 13]\n",
      " [ 7  2 44 42 52]\n",
      " [82 48 93 61 99]\n",
      " [77 15 24 20 96]\n",
      " [62 24 87 58 19]\n",
      " [44 93 65 12 42]\n",
      " [38 89 83 42 88]\n",
      " [77  8 63 40 20]\n",
      " [54 80 52 86 20]\n",
      " [19 16 36 90 28]\n",
      " [17 35 77 66 57]\n",
      " [87 77 58 77 29]\n",
      " [91 31 57  6 67]\n",
      " [95 77 97 99 23]\n",
      " [25 85 72 72 41]\n",
      " [39 55 63 29  3]\n",
      " [74 41  4 32 39]\n",
      " [74 48 35 52 97]\n",
      " [29 87  6 32  1]\n",
      " [16  2 18  4 20]\n",
      " [49 27 43 26 42]\n",
      " [66 68 18 85  6]\n",
      " [81 91 40 45 77]\n",
      " [39 65 31 85 94]\n",
      " [98 53 57 40 29]\n",
      " [77 78 72 56 61]\n",
      " [56 68 30 82 82]\n",
      " [43 21 61 60 98]\n",
      " [34 19  6 64 33]]\n",
      "\n",
      "\n",
      "Test set: size= 30\n",
      "[[65 94 35 10 32]\n",
      " [32 56 42 99 78]\n",
      " [22 38 36 39 21]\n",
      " [57 37 25 45 62]\n",
      " [63 99 99  7 16]\n",
      " [16 70 56 12 18]\n",
      " [80 16 74 52 58]\n",
      " [57 98 83  2 37]\n",
      " [36 82  3 16 17]\n",
      " [78 67 84  5 78]\n",
      " [25 16 44 80 71]\n",
      " [17 17 65 54 55]\n",
      " [76 71 30 65 24]\n",
      " [ 7 14 60 84 30]\n",
      " [59 98 82 47 12]\n",
      " [47 23 86 31 66]\n",
      " [14 61  4 39 98]\n",
      " [73 87 66 47 41]\n",
      " [ 4 87 59 97  9]\n",
      " [92 96 34 15 50]\n",
      " [44 76 72 56 91]\n",
      " [71 88 49 84 80]\n",
      " [23 66 88 83 43]\n",
      " [16 77 97 17 63]\n",
      " [68 84 60 57 65]\n",
      " [58 44 10 56 19]\n",
      " [55 17 21 20 88]\n",
      " [35  3  3 23 91]\n",
      " [92  5  7 96 96]\n",
      " [65 97 38 96 93]]\n"
     ]
    }
   ],
   "source": [
    "train=np.array(train)\n",
    "test=np.delete(data,a,axis=0)\n",
    "print(type(train))\n",
    "print(type(test))\n",
    "print(\"Train set: size=\",len(train))\n",
    "print(train)\n",
    "print('\\n')\n",
    "print(\"Test set: size=\",len(test))\n",
    "print(test)"
   ]
  },
  {
   "cell_type": "code",
   "execution_count": null,
   "metadata": {},
   "outputs": [],
   "source": []
  }
 ],
 "metadata": {
  "kernelspec": {
   "display_name": "Python 3",
   "language": "python",
   "name": "python3"
  },
  "language_info": {
   "codemirror_mode": {
    "name": "ipython",
    "version": 3
   },
   "file_extension": ".py",
   "mimetype": "text/x-python",
   "name": "python",
   "nbconvert_exporter": "python",
   "pygments_lexer": "ipython3",
   "version": "3.6.5"
  }
 },
 "nbformat": 4,
 "nbformat_minor": 2
}
