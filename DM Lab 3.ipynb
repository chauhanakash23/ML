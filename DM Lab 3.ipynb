{
 "cells": [
  {
   "cell_type": "markdown",
   "metadata": {},
   "source": [
    "# Gini Index"
   ]
  },
  {
   "cell_type": "code",
   "execution_count": 1,
   "metadata": {},
   "outputs": [],
   "source": [
    "import pandas as pd\n",
    "import numpy as np"
   ]
  },
  {
   "cell_type": "code",
   "execution_count": 2,
   "metadata": {},
   "outputs": [
    {
     "name": "stdout",
     "output_type": "stream",
     "text": [
      "     Outlook Temperature Humidity  Windy PlayTennis\n",
      "0      Sunny         Hot     High  False         No\n",
      "1      Sunny         Hot     High   True         No\n",
      "2   Overcast         Hot     High  False        Yes\n",
      "3      Rainy        Mild     High  False        Yes\n",
      "4      Rainy        Cool   Normal  False        Yes\n",
      "5      Rainy        Cool   Normal   True         No\n",
      "6   Overcast        Cool   Normal   True        Yes\n",
      "7      Sunny        Mild     High  False         No\n",
      "8      Sunny        Cool   Normal  False        Yes\n",
      "9      Rainy        Mild   Normal  False        Yes\n",
      "10     Sunny        Mild   Normal   True        Yes\n",
      "11  Overcast        Mild     High   True        Yes\n",
      "12  Overcast         Hot   Normal  False        Yes\n",
      "13     Rainy        Mild     High   True         No\n"
     ]
    }
   ],
   "source": [
    "data = pd.read_csv('/home/akash/Downloads/tennis.csv')\n",
    "label = 'PlayTennis'\n",
    "labels = data[label]\n",
    "print(data)"
   ]
  },
  {
   "cell_type": "code",
   "execution_count": 3,
   "metadata": {},
   "outputs": [],
   "source": [
    "def g1(d,A):\n",
    "    \n",
    "    p = []\n",
    "    x = []\n",
    "    c = d[label].value_counts()\n",
    "    #print(c,len(c))\n",
    "    \n",
    "    attrib_val = np.unique(d[A])\n",
    "    #print(len(attrib_val))\n",
    "    for i in range(len(c)):\n",
    "        p.append((float(c[i])/sum(c))**2)\n",
    "        #print(c[i])\n",
    "        #print(sum(c))    \n",
    "    \n",
    "    #print(p)\n",
    "    #print('len',len(p))\n",
    "    pp = sum(p)\n",
    "    #print(pp)\n",
    "    x = float(1 - pp)\n",
    "        \n",
    "    return x    \n",
    "\n",
    "def gini_index(data, A):\n",
    "    \n",
    "    p = []\n",
    "    x = []\n",
    "    y = []\n",
    "    labels = 'PlayTennis'\n",
    "    classes = np.unique(data[labels])\n",
    "    \n",
    "    a = np.unique(data[A])\n",
    "    #print(a,'\\n')\n",
    "    d=list()\n",
    "    for i in range(len(a)):\n",
    "        d = data.loc[data[A] == a[i]]\n",
    "        gini = g1(d,A)\n",
    "        print('Gini(data, {}) = {}'.format(a[i], gini))\n",
    "        x.append(float(len(d)/len(data[A])))\n",
    "        y.append(x[i]*gini)\n",
    "    #print(x)\n",
    "    #print(y)\n",
    "    \n",
    "    gin = sum(y)\n",
    "    \n",
    "    print('Gini({}) = {}'.format(A,gin))    "
   ]
  },
  {
   "cell_type": "code",
   "execution_count": 4,
   "metadata": {},
   "outputs": [
    {
     "name": "stdout",
     "output_type": "stream",
     "text": [
      "Gini(data, False) = 0.375\n",
      "Gini(data, True) = 0.5\n",
      "Gini(Windy) = 0.42857142857142855\n"
     ]
    }
   ],
   "source": [
    "gini_index(data, 'Windy')"
   ]
  },
  {
   "cell_type": "code",
   "execution_count": 5,
   "metadata": {},
   "outputs": [
    {
     "name": "stdout",
     "output_type": "stream",
     "text": [
      "Gini(data, High) = 0.48979591836734704\n",
      "Gini(data, Normal) = 0.24489795918367352\n",
      "Gini(Humidity) = 0.3673469387755103\n"
     ]
    }
   ],
   "source": [
    "gini_index(data, 'Humidity')"
   ]
  },
  {
   "cell_type": "code",
   "execution_count": 6,
   "metadata": {},
   "outputs": [
    {
     "name": "stdout",
     "output_type": "stream",
     "text": [
      "Gini(data, Cool) = 0.375\n",
      "Gini(data, Hot) = 0.5\n",
      "Gini(data, Mild) = 0.4444444444444444\n",
      "Gini(Temperature) = 0.44047619047619047\n"
     ]
    }
   ],
   "source": [
    "gini_index(data, 'Temperature')"
   ]
  },
  {
   "cell_type": "code",
   "execution_count": 7,
   "metadata": {},
   "outputs": [
    {
     "name": "stdout",
     "output_type": "stream",
     "text": [
      "Gini(data, Overcast) = 0.0\n",
      "Gini(data, Rainy) = 0.48\n",
      "Gini(data, Sunny) = 0.48\n",
      "Gini(Outlook) = 0.34285714285714286\n"
     ]
    }
   ],
   "source": [
    "gini_index(data, 'Outlook')"
   ]
  },
  {
   "cell_type": "code",
   "execution_count": null,
   "metadata": {},
   "outputs": [],
   "source": []
  }
 ],
 "metadata": {
  "kernelspec": {
   "display_name": "Python 3",
   "language": "python",
   "name": "python3"
  },
  "language_info": {
   "codemirror_mode": {
    "name": "ipython",
    "version": 3
   },
   "file_extension": ".py",
   "mimetype": "text/x-python",
   "name": "python",
   "nbconvert_exporter": "python",
   "pygments_lexer": "ipython3",
   "version": "3.6.5"
  }
 },
 "nbformat": 4,
 "nbformat_minor": 2
}
