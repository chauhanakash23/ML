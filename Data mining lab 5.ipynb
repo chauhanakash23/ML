{
 "cells": [
  {
   "cell_type": "code",
   "execution_count": 3,
   "metadata": {},
   "outputs": [],
   "source": [
    "import random\n",
    "import math\n",
    "import matplotlib.pyplot as plt\n",
    "import pandas as pd\n",
    "%matplotlib inline\n",
    "import warnings\n",
    "warnings.filterwarnings('ignore')"
   ]
  },
  {
   "cell_type": "code",
   "execution_count": 4,
   "metadata": {},
   "outputs": [],
   "source": [
    "def eucldist(p0,p1):\n",
    "    dist = 0.0\n",
    "    for i in range(0,len(p0)):\n",
    "        dist += (p0[i] - p1[i])**2\n",
    "    return math.sqrt(dist)"
   ]
  },
  {
   "cell_type": "code",
   "execution_count": 7,
   "metadata": {},
   "outputs": [],
   "source": [
    "def kmeans(k,datapoints):\n",
    "\n",
    "    d = len(datapoints[0])\n",
    "    max_iterations = 1000\n",
    "    i = 0\n",
    "   \n",
    "    cluster = [0] * len(datapoints)\n",
    "\n",
    "    prev_cluster = [-1] * len(datapoints)\n",
    "    \n",
    "    cluster_centers = []\n",
    "    for i in range(0,k):\n",
    "        new_cluster = []\n",
    "        \n",
    "        cluster_centers += [random.choice(datapoints)]\n",
    "                \n",
    "        force_k_clusters = False\n",
    "    \n",
    "    while(cluster != prev_cluster) or (i > max_iterations) or (force_k_clusters) :\n",
    "        \n",
    "        prev_cluster = list(cluster)\n",
    "        force_k_clusters = False\n",
    "        i += 1\n",
    "    \n",
    "        for p in range(0,len(datapoints)):\n",
    "            min_dist = float(\"inf\")\n",
    "            \n",
    "            for c in range(0,len(cluster_centers)):\n",
    "                \n",
    "                dist = eucldist(datapoints[p],cluster_centers[c])\n",
    "                \n",
    "                if (dist < min_dist):\n",
    "                    min_dist = dist  \n",
    "                    cluster[p] = c   \n",
    "        for k in range(0,len(cluster_centers)):\n",
    "            new_center = [0] * d\n",
    "            members = 0\n",
    "            for p in range(0,len(datapoints)):\n",
    "                if (cluster[p] == k): \n",
    "                    for j in range(0,d):\n",
    "                        new_center[j] += datapoints[p][j]\n",
    "                    members += 1\n",
    "            \n",
    "            for j in range(0,d):\n",
    "                if members != 0:\n",
    "                    new_center[j] = new_center[j] / float(members) \n",
    "                \n",
    "                else: \n",
    "                    new_center = random.choice(datapoints)\n",
    "                    force_k_clusters = True\n",
    "                    print (\"Forced Recalculation\")\n",
    "                    \n",
    "            \n",
    "            cluster_centers[k] = new_center\n",
    "            \n",
    "    dp = pd.DataFrame(datapoints)\n",
    "    #print(dp)\n",
    "    plt.scatter(dp[0],dp[1])        \n",
    "    df = pd.DataFrame(cluster_centers)\n",
    "    plt.scatter(df[0],df[1])\n",
    "    \n",
    "    plt.show()\n",
    "\n",
    "    print(\"Clusters\", cluster_centers)\n",
    "    print(\"Iterations\",i)\n",
    "    print(\"Assignments\", cluster)"
   ]
  },
  {
   "cell_type": "code",
   "execution_count": 8,
   "metadata": {},
   "outputs": [
    {
     "data": {
      "image/png": "[encoded data removed]",
      "text/plain": [
       "<Figure size 432x288 with 1 Axes>"
      ]
     },
     "metadata": {},
     "output_type": "display_data"
    },
    {
     "name": "stdout",
     "output_type": "stream",
     "text": [
      "Clusters [[1.3333333333333333, 1.3333333333333333], [11.4, 12.2], [6.0, 6.5]]\n",
      "Iterations 7\n",
      "Assignments [0, 0, 0, 0, 0, 0, 2, 2, 1, 1, 1, 1, 1]\n"
     ]
    }
   ],
   "source": [
    "datapoints = [(3,2),(2,2),(1,2),(0,1),(1,0),(1,1),(5,6),(7,7),(9,10),(11,13),(12,12),(12,13),(13,13)]\n",
    "k = 3 \n",
    "      \n",
    "kmeans(k,datapoints)"
   ]
  },
  {
   "cell_type": "code",
   "execution_count": null,
   "metadata": {},
   "outputs": [],
   "source": []
  }
 ],
 "metadata": {
  "kernelspec": {
   "display_name": "Python 3",
   "language": "python",
   "name": "python3"
  },
  "language_info": {
   "codemirror_mode": {
    "name": "ipython",
    "version": 3
   },
   "file_extension": ".py",
   "mimetype": "text/x-python",
   "name": "python",
   "nbconvert_exporter": "python",
   "pygments_lexer": "ipython3",
   "version": "3.6.5"
  }
 },
 "nbformat": 4,
 "nbformat_minor": 2
}
