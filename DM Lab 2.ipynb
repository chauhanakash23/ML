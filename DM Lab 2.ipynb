{
 "cells": [
  {
   "cell_type": "code",
   "execution_count": 19,
   "metadata": {},
   "outputs": [],
   "source": [
    "import pandas as pd\n",
    "import numpy as np\n",
    "import pydot"
   ]
  },
  {
   "cell_type": "code",
   "execution_count": 20,
   "metadata": {},
   "outputs": [
    {
     "name": "stdout",
     "output_type": "stream",
     "text": [
      "     Outlook Temperature Humidity  Windy PlayTennis\n",
      "0      Sunny         Hot     High  False         No\n",
      "1      Sunny         Hot     High   True         No\n",
      "2   Overcast         Hot     High  False        Yes\n",
      "3      Rainy        Mild     High  False        Yes\n",
      "4      Rainy        Cool   Normal  False        Yes\n",
      "5      Rainy        Cool   Normal   True         No\n",
      "6   Overcast        Cool   Normal   True        Yes\n",
      "7      Sunny        Mild     High  False         No\n",
      "8      Sunny        Cool   Normal  False        Yes\n",
      "9      Rainy        Mild   Normal  False        Yes\n",
      "10     Sunny        Mild   Normal   True        Yes\n",
      "11  Overcast        Mild     High   True        Yes\n",
      "12  Overcast         Hot   Normal  False        Yes\n",
      "13     Rainy        Mild     High   True         No\n"
     ]
    }
   ],
   "source": [
    "data = pd.read_csv('/home/akash/Downloads/tennis.csv')\n",
    "labels = data['PlayTennis']\n",
    "classes = np.unique(labels)\n",
    "print(data)"
   ]
  },
  {
   "cell_type": "code",
   "execution_count": 21,
   "metadata": {},
   "outputs": [],
   "source": [
    "def entropy(S):\n",
    "    #print(S)\n",
    "    labels = S['PlayTennis']\n",
    "    a = sorted(labels.value_counts().to_dict())\n",
    "    #print(a)\n",
    "    classes = np.unique(labels) \n",
    "    #print(labels)\n",
    "\n",
    "    c = labels.value_counts()\n",
    "    no_of_classes = len(c)\n",
    "    \n",
    "    en = 0\n",
    "    \n",
    "    p = []\n",
    "    \n",
    "    for i in range(no_of_classes):\n",
    "        p.append(float(c[i]/len(labels)))\n",
    "    #print(p)    \n",
    "    \n",
    "    for i in range(len(p)):\n",
    "        en += -1 * p[i] * np.log2(p[i])\n",
    "          \n",
    "    return en\n",
    "    "
   ]
  },
  {
   "cell_type": "code",
   "execution_count": 22,
   "metadata": {},
   "outputs": [
    {
     "name": "stdout",
     "output_type": "stream",
     "text": [
      "Entropy 0.9402859586706309\n"
     ]
    }
   ],
   "source": [
    "en=entropy(data)\n",
    "print('Entropy', en)"
   ]
  },
  {
   "cell_type": "code",
   "execution_count": 23,
   "metadata": {},
   "outputs": [
    {
     "name": "stdout",
     "output_type": "stream",
     "text": [
      "0.9709505944546686\n"
     ]
    }
   ],
   "source": [
    "d= data.loc[data['Outlook']=='Sunny']\n",
    "print(entropy(d))"
   ]
  },
  {
   "cell_type": "code",
   "execution_count": 24,
   "metadata": {},
   "outputs": [],
   "source": [
    "def gain(S,A):\n",
    "    n=[]\n",
    "    e=[]\n",
    "    s=[]\n",
    "    count=[]\n",
    "    a=np.unique(S[A])\n",
    "    no_of_values=len(a)\n",
    "    c= S[A].value_counts().to_dict()\n",
    "    print(c)\n",
    "    for i in a:\n",
    "        count.append(c[i])\n",
    "    \n",
    "    print(S[A].value_counts())   \n",
    "    \n",
    "    #print(a)\n",
    "    #print(no_of_values)\n",
    "    #print(len(S))\n",
    "     \n",
    "    \n",
    "    for i in range(no_of_values):\n",
    "        n.append((float(count[i]))/len(S))\n",
    "        \n",
    "        #print(count[i])\n",
    "        d = S.loc[S[A]==a[i]]\n",
    "        \n",
    "        #print(d)\n",
    "        e.append(entropy(d))\n",
    "        #s.append(n[i]*e[i])\n",
    "    #print(n)\n",
    "    #print(\"\\n\")\n",
    "    #print(e)  \n",
    "    e=np.array(e)\n",
    "    n=np.array(n)\n",
    "    #print(e)\n",
    "    s=n*e\n",
    "    su=np.sum(s)\n",
    "    #print(\"Unique values: \\n\",a)\n",
    "    #print(count)\n",
    "    #print(n)\n",
    "    #print(e)\n",
    "    #su=sum(s)\n",
    "    g= entropy(S) - su\n",
    "    \n",
    "    return g"
   ]
  },
  {
   "cell_type": "code",
   "execution_count": 25,
   "metadata": {},
   "outputs": [
    {
     "name": "stdout",
     "output_type": "stream",
     "text": [
      "{'Sunny': 5, 'Rainy': 5, 'Overcast': 4}\n",
      "Sunny       5\n",
      "Rainy       5\n",
      "Overcast    4\n",
      "Name: Outlook, dtype: int64\n",
      "0.2467498197744391\n"
     ]
    }
   ],
   "source": [
    "print(gain(data,'Outlook'))"
   ]
  },
  {
   "cell_type": "code",
   "execution_count": 26,
   "metadata": {},
   "outputs": [
    {
     "name": "stdout",
     "output_type": "stream",
     "text": [
      "{False: 8, True: 6}\n",
      "False    8\n",
      "True     6\n",
      "Name: Windy, dtype: int64\n",
      "0.04812703040826927\n"
     ]
    }
   ],
   "source": [
    "print(gain(data, 'Windy'))"
   ]
  },
  {
   "cell_type": "code",
   "execution_count": 27,
   "metadata": {},
   "outputs": [
    {
     "name": "stdout",
     "output_type": "stream",
     "text": [
      "{'Normal': 7, 'High': 7}\n",
      "Normal    7\n",
      "High      7\n",
      "Name: Humidity, dtype: int64\n",
      "0.15183550136234136\n"
     ]
    }
   ],
   "source": [
    "print(gain(data, 'Humidity'))"
   ]
  },
  {
   "cell_type": "code",
   "execution_count": 28,
   "metadata": {},
   "outputs": [
    {
     "name": "stdout",
     "output_type": "stream",
     "text": [
      "{'Mild': 6, 'Cool': 4, 'Hot': 4}\n",
      "Mild    6\n",
      "Cool    4\n",
      "Hot     4\n",
      "Name: Temperature, dtype: int64\n",
      "0.029222565658954647\n"
     ]
    }
   ],
   "source": [
    "print(gain(data, 'Temperature'))"
   ]
  },
  {
   "cell_type": "code",
   "execution_count": 29,
   "metadata": {},
   "outputs": [
    {
     "name": "stdout",
     "output_type": "stream",
     "text": [
      "{False: 3, True: 2}\n",
      "False    3\n",
      "True     2\n",
      "Name: Windy, dtype: int64\n",
      "0.01997309402197489\n"
     ]
    }
   ],
   "source": [
    "S_sunny=data.loc[data['Outlook']=='Sunny']\n",
    "print(gain(S_sunny,'Windy'))"
   ]
  },
  {
   "cell_type": "code",
   "execution_count": 30,
   "metadata": {},
   "outputs": [
    {
     "name": "stdout",
     "output_type": "stream",
     "text": [
      "{'Hot': 2, 'Mild': 2, 'Cool': 1}\n",
      "Hot     2\n",
      "Mild    2\n",
      "Cool    1\n",
      "Name: Temperature, dtype: int64\n",
      "0.5709505944546686\n"
     ]
    }
   ],
   "source": [
    "S_temp=data.loc[data['Outlook']=='Sunny']\n",
    "print(gain(S_temp,'Temperature'))"
   ]
  },
  {
   "cell_type": "code",
   "execution_count": 31,
   "metadata": {},
   "outputs": [
    {
     "name": "stdout",
     "output_type": "stream",
     "text": [
      "{'Mild': 3, 'Cool': 2}\n",
      "Mild    3\n",
      "Cool    2\n",
      "Name: Temperature, dtype: int64\n",
      "0.01997309402197489\n"
     ]
    }
   ],
   "source": [
    "S_temp=data.loc[data['Outlook']=='Rainy']\n",
    "print(gain(S_temp,'Temperature'))"
   ]
  },
  {
   "cell_type": "code",
   "execution_count": 32,
   "metadata": {},
   "outputs": [
    {
     "name": "stdout",
     "output_type": "stream",
     "text": [
      "{False: 3, True: 2}\n",
      "False    3\n",
      "True     2\n",
      "Name: Windy, dtype: int64\n",
      "0.9709505944546686\n"
     ]
    }
   ],
   "source": [
    "S_temp=data.loc[data['Outlook']=='Rainy']\n",
    "print(gain(S_temp,'Windy'))"
   ]
  },
  {
   "cell_type": "code",
   "execution_count": 38,
   "metadata": {},
   "outputs": [],
   "source": [
    "#en = entropy(data)\n",
    "#x = list(data.columns)\n",
    "#x.pop()\n",
    "#print(x)\n",
    "#ent ={}\n",
    "\n",
    "#for i in x:\n",
    "#    ent[i] = gain(data,i)\n",
    "\n",
    "#v = list(ent.values())\n",
    "#k = list(ent.keys())\n",
    "#max_gain_attribute = k[v.index(max(v))]\n",
    "    \n",
    "#print(\"\\n\\nAttribute with the max gain: \",max_gain_attribute)   \n",
    "\n",
    "\n",
    "def tree(data):\n",
    "    \n",
    "    #attrib_vals = []\n",
    "    #for i in range(len(x)):\n",
    "    #    attrib_vals.append(np.unique(data[x[i]]))\n",
    "        \n",
    "    #print(attrib_vals)    \n",
    "    #print(x)\n",
    "    \n",
    "    feat = data.iloc[:,:-1].columns\n",
    "    dt = {}\n",
    "    g = {}\n",
    "    \n",
    "    for i in feat:\n",
    "        g[i] = gain(data,i)\n",
    "        \n",
    "    print(g)    \n",
    "    \n",
    "    max_gain_attrib = max(g, key=g.get)\n",
    "    print(max_gain_attrib)\n",
    "    \n",
    "    attrib_vals = data.loc[:,max_gain_attrib]\n",
    "    print(attrib_vals)\n",
    "    \n",
    "    dt[max_gain_attrib] = {}\n",
    "    for i in np.unique(attrib_vals):\n",
    "        \n",
    "        if len(np.unique(data.loc[data[max_gain_attrib]==i,:].iloc[:,-1])) > 1:\n",
    "            \n",
    "            dt[max_gain_attrib][i] = tree(data.loc[data[max_gain_attrib]==i,:].drop(max_gain_attrib,axis=1))\n",
    "            \n",
    "        else:\n",
    "            print(\"Leaf:\", max_gain_attrib, \" at:\", i)\n",
    "            dt[max_gain_attrib][i] =  str(np.unique(data.loc[data[max_gain_attrib]==i,:].iloc[:,-1])[0])\n",
    "    return dt"
   ]
  },
  {
   "cell_type": "code",
   "execution_count": 39,
   "metadata": {},
   "outputs": [
    {
     "name": "stdout",
     "output_type": "stream",
     "text": [
      "{'Sunny': 5, 'Rainy': 5, 'Overcast': 4}\n",
      "Sunny       5\n",
      "Rainy       5\n",
      "Overcast    4\n",
      "Name: Outlook, dtype: int64\n",
      "{'Mild': 6, 'Cool': 4, 'Hot': 4}\n",
      "Mild    6\n",
      "Cool    4\n",
      "Hot     4\n",
      "Name: Temperature, dtype: int64\n",
      "{'Normal': 7, 'High': 7}\n",
      "Normal    7\n",
      "High      7\n",
      "Name: Humidity, dtype: int64\n",
      "{False: 8, True: 6}\n",
      "False    8\n",
      "True     6\n",
      "Name: Windy, dtype: int64\n",
      "{'Outlook': 0.2467498197744391, 'Temperature': 0.029222565658954647, 'Humidity': 0.15183550136234136, 'Windy': 0.04812703040826927}\n",
      "Outlook\n",
      "0        Sunny\n",
      "1        Sunny\n",
      "2     Overcast\n",
      "3        Rainy\n",
      "4        Rainy\n",
      "5        Rainy\n",
      "6     Overcast\n",
      "7        Sunny\n",
      "8        Sunny\n",
      "9        Rainy\n",
      "10       Sunny\n",
      "11    Overcast\n",
      "12    Overcast\n",
      "13       Rainy\n",
      "Name: Outlook, dtype: object\n",
      "Leaf: Outlook  at: Overcast\n",
      "{'Mild': 3, 'Cool': 2}\n",
      "Mild    3\n",
      "Cool    2\n",
      "Name: Temperature, dtype: int64\n",
      "{'Normal': 3, 'High': 2}\n",
      "Normal    3\n",
      "High      2\n",
      "Name: Humidity, dtype: int64\n",
      "{False: 3, True: 2}\n",
      "False    3\n",
      "True     2\n",
      "Name: Windy, dtype: int64\n",
      "{'Temperature': 0.01997309402197489, 'Humidity': 0.01997309402197489, 'Windy': 0.9709505944546686}\n",
      "Windy\n",
      "3     False\n",
      "4     False\n",
      "5      True\n",
      "9     False\n",
      "13     True\n",
      "Name: Windy, dtype: bool\n",
      "Leaf: Windy  at: False\n",
      "Leaf: Windy  at: True\n",
      "{'Hot': 2, 'Mild': 2, 'Cool': 1}\n",
      "Hot     2\n",
      "Mild    2\n",
      "Cool    1\n",
      "Name: Temperature, dtype: int64\n",
      "{'High': 3, 'Normal': 2}\n",
      "High      3\n",
      "Normal    2\n",
      "Name: Humidity, dtype: int64\n",
      "{False: 3, True: 2}\n",
      "False    3\n",
      "True     2\n",
      "Name: Windy, dtype: int64\n",
      "{'Temperature': 0.5709505944546686, 'Humidity': 0.9709505944546686, 'Windy': 0.01997309402197489}\n",
      "Humidity\n",
      "0       High\n",
      "1       High\n",
      "7       High\n",
      "8     Normal\n",
      "10    Normal\n",
      "Name: Humidity, dtype: object\n",
      "Leaf: Humidity  at: High\n",
      "Leaf: Humidity  at: Normal\n"
     ]
    }
   ],
   "source": [
    "decision_tree = tree(data)"
   ]
  },
  {
   "cell_type": "code",
   "execution_count": 40,
   "metadata": {},
   "outputs": [
    {
     "name": "stdout",
     "output_type": "stream",
     "text": [
      "{'Outlook': {'Overcast': 'Yes', 'Rainy': {'Windy': {False: 'Yes', True: 'No'}}, 'Sunny': {'Humidity': {'High': 'No', 'Normal': 'Yes'}}}}\n"
     ]
    }
   ],
   "source": [
    "print(decision_tree)"
   ]
  },
  {
   "cell_type": "code",
   "execution_count": null,
   "metadata": {},
   "outputs": [],
   "source": []
  }
 ],
 "metadata": {
  "kernelspec": {
   "display_name": "Python 3",
   "language": "python",
   "name": "python3"
  },
  "language_info": {
   "codemirror_mode": {
    "name": "ipython",
    "version": 3
   },
   "file_extension": ".py",
   "mimetype": "text/x-python",
   "name": "python",
   "nbconvert_exporter": "python",
   "pygments_lexer": "ipython3",
   "version": "3.6.5"
  }
 },
 "nbformat": 4,
 "nbformat_minor": 2
}
